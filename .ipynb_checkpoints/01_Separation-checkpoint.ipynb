{
 "cells": [
  {
   "cell_type": "code",
   "execution_count": null,
   "metadata": {},
   "outputs": [],
   "source": [
    "#######################################\n",
    "### Project: Network Medicine Framework for Identifying Drug Repurposing Opportunities for COVID-19.\n",
    "### Description: Calculates the Network Separation from COVID-19 Disease Module to other diseases\n",
    "### Author: Italo Faria do Valle\n",
    "### email: italodovalle at gmail dot com \n",
    "### date: 1st March 2021\n",
    "#######################################"
   ]
  },
  {
   "cell_type": "code",
   "execution_count": null,
   "metadata": {},
   "outputs": [],
   "source": [
    "import networkx as nx\n",
    "import numpy as np\n",
    "import pandas as pd\n",
    "from collections import defaultdict\n",
    "import sys\n",
    "sys.path.append('./python/')\n",
    "\n",
    "\n",
    "import tqdm\n",
    "import separation"
   ]
  },
  {
   "cell_type": "code",
   "execution_count": null,
   "metadata": {},
   "outputs": [],
   "source": [
    "import matplotlib.pylab as plt\n",
    "import seaborn as sns\n",
    "sns.set_style('whitegrid')\n",
    "\n",
    "%matplotlib inline\n",
    "%config InlineBackend.figure_format = 'retina'"
   ]
  },
  {
   "cell_type": "code",
   "execution_count": null,
   "metadata": {},
   "outputs": [],
   "source": [
    "def connected_component_subgraphs(G, copy=True):\n",
    "    ## this function was removed from latest versions of networkx!!\n",
    "    for c in nx.connected_components(G):\n",
    "        if copy:\n",
    "            yield G.subgraph(c).copy()\n",
    "        else:\n",
    "            yield G.subgraph(c)"
   ]
  },
  {
   "cell_type": "code",
   "execution_count": null,
   "metadata": {},
   "outputs": [],
   "source": [
    "interactome_file = './data/DatasetS2.csv'\n",
    "mapping_file = './data/interactome_2019_merged_protAnnots.csv'\n",
    "disease_genes_file = './data/Guney2016_GenesDisease.tsv'"
   ]
  },
  {
   "cell_type": "code",
   "execution_count": null,
   "metadata": {},
   "outputs": [],
   "source": [
    "hi = pd.read_csv(interactome_file)\n",
    "edges = zip(hi.proteinA_entrezid, hi.proteinB_entrezid)\n",
    "hi = nx.Graph()\n",
    "hi.add_edges_from(edges)\n",
    "\n",
    "## consider only LCC\n",
    "G = list(connected_component_subgraphs(hi))[0]\n",
    "print (len(G.nodes()), len(G.edges()))"
   ]
  },
  {
   "cell_type": "code",
   "execution_count": null,
   "metadata": {},
   "outputs": [],
   "source": [
    "mapping = pd.read_csv(mapping_file,\n",
    "                     index_col = 0)\n",
    "symbol2entrez = {i:j for i,j in zip(mapping.Symbol, mapping.GeneID)}"
   ]
  },
  {
   "cell_type": "code",
   "execution_count": null,
   "metadata": {},
   "outputs": [],
   "source": [
    "disease2genes = {}\n",
    "for i in open(disease_genes_file).readlines():\n",
    "    v = i.rstrip().split('\\t')\n",
    "    disease = v[1]\n",
    "    genes = v[2:]\n",
    "    if len(genes) > 19:\n",
    "        disease2genes[disease] = [int(i) for i in genes]"
   ]
  },
  {
   "cell_type": "code",
   "execution_count": null,
   "metadata": {},
   "outputs": [],
   "source": [
    "diseasegenes = list(disease2genes.values())\n",
    "diseasegenes = sum(diseasegenes, [])\n",
    "diseasegenes = list(set(diseasegenes))\n",
    "len(diseasegenes)"
   ]
  },
  {
   "cell_type": "code",
   "execution_count": null,
   "metadata": {},
   "outputs": [],
   "source": [
    "dic = {'CEP43':11116, 'MTARC1':64757}\n",
    "symbol2entrez.update(dic)"
   ]
  },
  {
   "cell_type": "code",
   "execution_count": null,
   "metadata": {},
   "outputs": [],
   "source": [
    "dt = pd.read_csv('./data/DatasetS1.csv')\n",
    "dt['EntrezID'] = [symbol2entrez[i] for i in dt.Symbol]\n",
    "dt.head()"
   ]
  },
  {
   "cell_type": "markdown",
   "metadata": {},
   "source": [
    "# $S_{AB}$"
   ]
  },
  {
   "cell_type": "code",
   "execution_count": null,
   "metadata": {},
   "outputs": [],
   "source": [
    "sab = {}\n",
    "for disease in tqdm.tqdm(disease2genes.keys()):\n",
    "\n",
    "#disease = list(disease2genes.keys())[0]\n",
    "    genes_A = set(dt.EntrezID) & set(G.nodes())\n",
    "    genes_B = set(disease2genes[disease]) & set(G.nodes())\n",
    "    d_A = separation.calc_single_set_distance(G,genes_A)\n",
    "    d_B = separation.calc_single_set_distance(G,genes_B)\n",
    "\n",
    "    # distances BETWEEN the two gene sets:\n",
    "    d_AB = separation.calc_set_pair_distances(G,genes_A,genes_B)\n",
    "\n",
    "    # calculate separation\n",
    "    s_AB = d_AB - (d_A + d_B)/2.\n",
    "    sab[disease] = s_AB"
   ]
  },
  {
   "cell_type": "code",
   "execution_count": null,
   "metadata": {},
   "outputs": [],
   "source": [
    "dx = pd.DataFrame.from_dict(sab, orient='index')\n",
    "dx = dx.reset_index()\n",
    "dx.columns = ['disease', 'sab']\n",
    "dx.head()"
   ]
  },
  {
   "cell_type": "code",
   "execution_count": null,
   "metadata": {},
   "outputs": [],
   "source": [
    "dx.to_csv('./output/separation/sab_virustargets.csv')"
   ]
  },
  {
   "cell_type": "code",
   "execution_count": null,
   "metadata": {},
   "outputs": [],
   "source": [
    "fig, ax = plt.subplots(1,1)\n",
    "sns.distplot(dx['sab'],ax=ax)\n",
    "ax.set_xlabel('$S_{ab}$')\n",
    "ax.set_ylabel('Density')\n",
    "fig.savefig('./output/separation/sab_virus_dist.png', dpi = 300)"
   ]
  }
 ],
 "metadata": {
  "kernelspec": {
   "display_name": "Python 3",
   "language": "python",
   "name": "python3"
  },
  "language_info": {
   "codemirror_mode": {
    "name": "ipython",
    "version": 3
   },
   "file_extension": ".py",
   "mimetype": "text/x-python",
   "name": "python",
   "nbconvert_exporter": "python",
   "pygments_lexer": "ipython3",
   "version": "3.8.5"
  }
 },
 "nbformat": 4,
 "nbformat_minor": 4
}
